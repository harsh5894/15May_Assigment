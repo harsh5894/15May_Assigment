{
 "cells": [
  {
   "cell_type": "code",
   "execution_count": 21,
   "id": "c613a6b4-3a6c-48d9-8a35-84c2ba7b4e59",
   "metadata": {},
   "outputs": [
    {
     "name": "stdout",
     "output_type": "stream",
     "text": [
      "Harsh anand\n",
      "Harsh anand\n"
     ]
    }
   ],
   "source": [
    "# Q1. How do you comment code in Python? What are the different types of comments?\n",
    "# ans:- \n",
    "\n",
    "# There are two types of comment is python ; - \n",
    "# i) Single_line comment - It is denoted by '#'\n",
    "# example :- \n",
    "\n",
    "#This code is printing the name\n",
    "print(\"Harsh anand\")\n",
    "\n",
    "# ii) Multi_line comment - it is denoted by \"\"\"       \"\"\"\n",
    "# example :- \n",
    "\"\"\" THIS CODE IS USED TO PRINT THE NAME \n",
    "    AND THE OUTPUT IS HARSH ANAND \"\"\"\n",
    "\n",
    "print(\"Harsh anand\")\n",
    "     "
   ]
  },
  {
   "cell_type": "code",
   "execution_count": 8,
   "id": "799a63b4-9e23-4259-887e-a77cccc1ecc7",
   "metadata": {},
   "outputs": [
    {
     "name": "stdout",
     "output_type": "stream",
     "text": [
      "34\n",
      "45.56\n",
      "Harsh\n",
      "True\n",
      "(4+5j)\n"
     ]
    }
   ],
   "source": [
    "# Q2. What are variables in Python? How do you declare and assign values to variables?\n",
    "\n",
    "# ans:-  Variables are used to store data values.\n",
    "#        There are many tpes of variable :- i. integer ii. float  iii. string iv. bool v. complex\n",
    "\n",
    "my_int = 34\n",
    "print(my_int)\n",
    "\n",
    "my_float = 45.56\n",
    "print(my_float)\n",
    "\n",
    "my_str = \"Harsh\"\n",
    "print(my_str)\n",
    "\n",
    "my_bool = True\n",
    "print(my_bool)\n",
    "\n",
    "my_complex = 4+5j\n",
    "print(my_complex)\n"
   ]
  },
  {
   "cell_type": "code",
   "execution_count": 17,
   "id": "6e59093b-f65c-43ce-ba07-6b77fb60c525",
   "metadata": {},
   "outputs": [
    {
     "name": "stdout",
     "output_type": "stream",
     "text": [
      "5.0\n",
      "4\n",
      "5\n",
      "4.5\n",
      "[2, 3, 4, 5]\n"
     ]
    }
   ],
   "source": [
    "# Q3. How do you convert one data type to another in Python?\n",
    "# ans :-\n",
    "      # int to float :-\n",
    "a = 5\n",
    "b = float(a)\n",
    "print(b)\n",
    "      # float to int :- \n",
    "c = 4.5\n",
    "d = int(c)\n",
    "print(d)\n",
    "      # int to str :-\n",
    "e = 5\n",
    "f = str(e)\n",
    "print(f)\n",
    "type(f)\n",
    "      # float to str :-\n",
    "g = 4.5\n",
    "h = str(g)\n",
    "print(h)\n",
    "type(h)\n",
    "      # tuple to list :-\n",
    "t = (2,3,4,5)\n",
    "l = list(t)\n",
    "print(l)\n",
    "    \n",
    "\n"
   ]
  },
  {
   "cell_type": "code",
   "execution_count": 1,
   "id": "3743e65c-6f42-4c16-92a9-ae32ce4ff46f",
   "metadata": {},
   "outputs": [
    {
     "name": "stdout",
     "output_type": "stream",
     "text": [
      "Hello, world!\n"
     ]
    }
   ],
   "source": [
    "# Q4. How do you write and execute a Python script from the command line?\n",
    "# ans :- \n",
    "\n",
    "# myscript.py\n",
    "print(\"Hello, world!\")\n",
    "      \n"
   ]
  },
  {
   "cell_type": "code",
   "execution_count": 1,
   "id": "61fd4088-0ad4-453a-882d-4aee5575e74c",
   "metadata": {},
   "outputs": [
    {
     "name": "stdout",
     "output_type": "stream",
     "text": [
      "[2, 3]\n"
     ]
    }
   ],
   "source": [
    "# Q5. Given a list my_list = [1, 2, 3, 4, 5], write the code to slice the list and obtain the sub-list [2, 3].\n",
    "# ans :- \n",
    "\n",
    "my_list = [1, 2, 3, 4, 5]\n",
    "sub_list = my_list[1:3]\n",
    "print(sub_list)"
   ]
  },
  {
   "cell_type": "code",
   "execution_count": 4,
   "id": "1a8e1074-01e3-435e-bbfd-1faf37ab3c8f",
   "metadata": {},
   "outputs": [
    {
     "data": {
      "text/plain": [
       "complex"
      ]
     },
     "execution_count": 4,
     "metadata": {},
     "output_type": "execute_result"
    }
   ],
   "source": [
    "# Q6. What is a complex number in mathematics, and how is it represented in Python?\n",
    "# ans:- \n",
    "\n",
    "# In mathematics, a complex number is a number of the form a + bi, where a and b are real numbers, and i is the imaginary unit.\n",
    "# It is represented by :- \n",
    "\n",
    "a = 3+5j\n",
    "type(a)\n"
   ]
  },
  {
   "cell_type": "code",
   "execution_count": 5,
   "id": "8f6a8c26-fdd8-4f40-bac7-dff894e4511b",
   "metadata": {},
   "outputs": [
    {
     "name": "stdout",
     "output_type": "stream",
     "text": [
      "Age :-  25\n"
     ]
    }
   ],
   "source": [
    "# Q7. What is the correct way to declare a variable named age and assign the value 25 to it?\n",
    "# ans:- \n",
    "\n",
    "age = 25\n",
    "print(\"Age :- \",age)\n"
   ]
  },
  {
   "cell_type": "code",
   "execution_count": 7,
   "id": "b0acdf73-8848-4d2e-b013-7052e2fac9d8",
   "metadata": {},
   "outputs": [
    {
     "data": {
      "text/plain": [
       "float"
      ]
     },
     "execution_count": 7,
     "metadata": {},
     "output_type": "execute_result"
    }
   ],
   "source": [
    "# Q8. Declare a variable named price and assign the value 9.99 to it. What data type does this variable belong to?\n",
    "# ans :- \n",
    "\n",
    "price = 9.99\n",
    "type(price)"
   ]
  },
  {
   "cell_type": "code",
   "execution_count": 10,
   "id": "7bb376cd-5a77-49e9-9cba-9c44f207f428",
   "metadata": {},
   "outputs": [
    {
     "name": "stdout",
     "output_type": "stream",
     "text": [
      "Harsh anand\n"
     ]
    }
   ],
   "source": [
    "# Q9. Create a variable named name and assign your full name to it as a string. How would you print the value of this variable?\n",
    "# ans :- \n",
    "\n",
    "name = \"Harsh anand\"\n",
    "print(name)"
   ]
  },
  {
   "cell_type": "code",
   "execution_count": 13,
   "id": "6d5137a3-1c2b-4af7-bfb2-fde2889b9c92",
   "metadata": {},
   "outputs": [
    {
     "name": "stdout",
     "output_type": "stream",
     "text": [
      "World!\n"
     ]
    }
   ],
   "source": [
    "# Q10. Given the string \"Hello, World!\", extract the substring \"World\".\n",
    "# ans :- \n",
    "\n",
    "my_str = \"Hello, World!\"\n",
    "substring = my_str[7:13]\n",
    "print(substring)"
   ]
  },
  {
   "cell_type": "code",
   "execution_count": 20,
   "id": "0b005bec-4319-45d7-8538-ad0d27f9afa8",
   "metadata": {},
   "outputs": [
    {
     "name": "stdout",
     "output_type": "stream",
     "text": [
      "True\n"
     ]
    }
   ],
   "source": [
    "# Q11. Create a variable named \"is_student\" and assign it a boolean value indicating whether you are currently a student or not.\n",
    "# ans :- \n",
    "\n",
    "is_student = True \n",
    "print(is_student)"
   ]
  },
  {
   "cell_type": "code",
   "execution_count": null,
   "id": "260c6b4f-7c06-41b8-b413-d934891730f3",
   "metadata": {},
   "outputs": [],
   "source": []
  }
 ],
 "metadata": {
  "kernelspec": {
   "display_name": "Python 3 (ipykernel)",
   "language": "python",
   "name": "python3"
  },
  "language_info": {
   "codemirror_mode": {
    "name": "ipython",
    "version": 3
   },
   "file_extension": ".py",
   "mimetype": "text/x-python",
   "name": "python",
   "nbconvert_exporter": "python",
   "pygments_lexer": "ipython3",
   "version": "3.10.8"
  }
 },
 "nbformat": 4,
 "nbformat_minor": 5
}
